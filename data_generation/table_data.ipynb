{
 "cells": [
  {
   "cell_type": "code",
   "execution_count": 7,
   "metadata": {},
   "outputs": [],
   "source": [
    "import pandas as pd"
   ]
  },
  {
   "cell_type": "code",
   "execution_count": 8,
   "metadata": {},
   "outputs": [],
   "source": [
    "def create_business_decile_table(iz_info_path, save_location):\n",
    "    iz_info = pd.read_csv(iz_info_path)\n",
    "    businesses_decile = iz_info.groupby('Mean SIMD Decile')[\"Businesses per 1000 people\"].mean().round(3).reset_index()\n",
    "    businesses_decile_max = iz_info.groupby('Mean SIMD Decile')[\"Businesses per 1000 people\"].max().reset_index()\n",
    "    businesses_decile_max.rename(columns={\"Businesses per 1000 people\": \"max\"}, inplace=True)\n",
    "    businesses_decile_min = iz_info.groupby('Mean SIMD Decile')[\"Businesses per 1000 people\"].min().reset_index()\n",
    "    businesses_decile_min.rename(columns={\"Businesses per 1000 people\": \"min\"}, inplace=True)\n",
    "    businesses_decile = businesses_decile.merge(businesses_decile_max, left_on=\"Mean SIMD Decile\", right_on=\"Mean SIMD Decile\")\n",
    "    businesses_decile = businesses_decile.merge(businesses_decile_min, left_on=\"Mean SIMD Decile\", right_on=\"Mean SIMD Decile\")\n",
    "    businesses_decile['Range'] = businesses_decile[['min', 'max']].apply(lambda x: [i for i in x], axis=1)\n",
    "    \n",
    "    businesses_decile.to_csv(save_location, index=False)"
   ]
  },
  {
   "cell_type": "code",
   "execution_count": 9,
   "metadata": {},
   "outputs": [],
   "source": [
    "def create_charity_decile_table(iz_info_path, save_location):\n",
    "    iz_info = pd.read_csv(iz_info_path)\n",
    "    charities_decile = iz_info.groupby('Mean SIMD Decile')[\"Local charities per 1000 people\"].mean().round(3).reset_index()\n",
    "    charities_decile_max = iz_info.groupby('Mean SIMD Decile')[\"Local charities per 1000 people\"].max().reset_index()\n",
    "    charities_decile_max.rename(columns={\"Local charities per 1000 people\": \"max\"}, inplace=True)\n",
    "    charities_decile_min = iz_info.groupby('Mean SIMD Decile')[\"Local charities per 1000 people\"].min().reset_index()\n",
    "    charities_decile_min.rename(columns={\"Local charities per 1000 people\": \"min\"}, inplace=True)\n",
    "    charities_decile = charities_decile.merge(charities_decile_max, left_on=\"Mean SIMD Decile\", right_on=\"Mean SIMD Decile\")\n",
    "    charities_decile = charities_decile.merge(charities_decile_min, left_on=\"Mean SIMD Decile\", right_on=\"Mean SIMD Decile\")\n",
    "    charities_decile['Range'] = charities_decile[['min', 'max']].apply(lambda x: [i for i in x], axis=1)\n",
    "    \n",
    "    charities_decile.to_csv(save_location, index=False)"
   ]
  },
  {
   "cell_type": "code",
   "execution_count": 10,
   "metadata": {},
   "outputs": [],
   "source": [
    "def create_ccch_decile_table(iz_info_path, save_location):\n",
    "    iz_info = pd.read_csv(iz_info_path)\n",
    "    ccch_decile = iz_info.groupby('Mean SIMD Decile')[\"Community spaces per 1000 people\"].mean().round(3).reset_index()\n",
    "    ccch_decile_max = iz_info.groupby('Mean SIMD Decile')[\"Community spaces per 1000 people\"].max().reset_index()\n",
    "    ccch_decile_max.rename(columns={\"Community spaces per 1000 people\": \"max\"}, inplace=True)\n",
    "    ccch_decile_min = iz_info.groupby('Mean SIMD Decile')[\"Community spaces per 1000 people\"].min().reset_index()\n",
    "    ccch_decile_min.rename(columns={\"Community spaces per 1000 people\": \"min\"}, inplace=True)\n",
    "    ccch_decile = ccch_decile.merge(ccch_decile_max, left_on=\"Mean SIMD Decile\", right_on=\"Mean SIMD Decile\")\n",
    "    ccch_decile = ccch_decile.merge(ccch_decile_min, left_on=\"Mean SIMD Decile\", right_on=\"Mean SIMD Decile\")\n",
    "    ccch_decile['Range'] = ccch_decile[['min', 'max']].apply(lambda x: [i for i in x], axis=1)\n",
    "    \n",
    "    ccch_decile.to_csv(save_location, index=False)\n"
   ]
  },
  {
   "cell_type": "code",
   "execution_count": 11,
   "metadata": {},
   "outputs": [],
   "source": [
    "# Aberdeen City\n",
    "create_business_decile_table(\"../data/aberdeen_city/iz_info_aberdeen_city.csv\", \"../data/aberdeen_city/businesses_decile_aberdeen_city.csv\")\n",
    "create_charity_decile_table(\"../data/aberdeen_city/iz_info_aberdeen_city.csv\", \"../data/aberdeen_city/charity_decile_aberdeen_city.csv\")\n",
    "create_ccch_decile_table(\"../data/aberdeen_city/iz_info_aberdeen_city.csv\", \"../data/aberdeen_city/ccch_decile_aberdeen_city.csv\")"
   ]
  },
  {
   "cell_type": "code",
   "execution_count": 12,
   "metadata": {},
   "outputs": [],
   "source": [
    "# Aberdeenshire\n",
    "create_business_decile_table(\"../data/aberdeenshire/iz_info_aberdeenshire.csv\", \"../data/aberdeenshire/businesses_decile_aberdeenshire.csv\")\n",
    "create_charity_decile_table(\"../data/aberdeenshire/iz_info_aberdeenshire.csv\", \"../data/aberdeenshire/charity_decile_aberdeenshire.csv\")\n",
    "create_ccch_decile_table(\"../data/aberdeenshire/iz_info_aberdeenshire.csv\", \"../data/aberdeenshire/ccch_decile_aberdeenshire.csv\")"
   ]
  },
  {
   "cell_type": "code",
   "execution_count": 13,
   "metadata": {},
   "outputs": [],
   "source": [
    "# Angus\n",
    "create_business_decile_table(\"../data/angus/iz_info_angus.csv\", \"../data/angus/businesses_decile_angus.csv\")\n",
    "create_charity_decile_table(\"../data/angus/iz_info_angus.csv\", \"../data/angus/charity_decile_angus.csv\")\n",
    "create_ccch_decile_table(\"../data/angus/iz_info_angus.csv\", \"../data/angus/ccch_decile_angus.csv\")"
   ]
  },
  {
   "cell_type": "code",
   "execution_count": 14,
   "metadata": {},
   "outputs": [],
   "source": [
    "# Argyll and Bute\n",
    "create_business_decile_table(\"../data/argyll_and_bute/iz_info_argyll_and_bute.csv\", \"../data/argyll_and_bute/businesses_decile_argyll_and_bute.csv\")\n",
    "create_charity_decile_table(\"../data/argyll_and_bute/iz_info_argyll_and_bute.csv\", \"../data/argyll_and_bute/charity_decile_argyll_and_bute.csv\")\n",
    "create_ccch_decile_table(\"../data/argyll_and_bute/iz_info_argyll_and_bute.csv\", \"../data/argyll_and_bute/ccch_decile_argyll_and_bute.csv\")"
   ]
  },
  {
   "cell_type": "code",
   "execution_count": 15,
   "metadata": {},
   "outputs": [],
   "source": [
    "# City of Edinburgh\n",
    "create_business_decile_table(\"../data/city_of_edinburgh/iz_info_city_of_edinburgh.csv\", \"../data/city_of_edinburgh/businesses_decile_city_of_edinburgh.csv\")\n",
    "create_charity_decile_table(\"../data/city_of_edinburgh/iz_info_city_of_edinburgh.csv\", \"../data/city_of_edinburgh/charity_decile_city_of_edinburgh.csv\")\n",
    "create_ccch_decile_table(\"../data/city_of_edinburgh/iz_info_city_of_edinburgh.csv\", \"../data/city_of_edinburgh/ccch_decile_city_of_edinburgh.csv\")"
   ]
  },
  {
   "cell_type": "code",
   "execution_count": 16,
   "metadata": {},
   "outputs": [],
   "source": [
    "# Clackmannanshire\n",
    "create_business_decile_table(\"../data/clackmannanshire/iz_info_clackmannanshire.csv\", \"../data/clackmannanshire/businesses_decile_clackmannanshire.csv\")\n",
    "create_charity_decile_table(\"../data/clackmannanshire/iz_info_clackmannanshire.csv\", \"../data/clackmannanshire/charity_decile_clackmannanshire.csv\")\n",
    "create_ccch_decile_table(\"../data/clackmannanshire/iz_info_clackmannanshire.csv\", \"../data/clackmannanshire/ccch_decile_clackmannanshire.csv\")"
   ]
  },
  {
   "cell_type": "code",
   "execution_count": 17,
   "metadata": {},
   "outputs": [],
   "source": [
    "# Dumfries and Galloway\n",
    "create_business_decile_table(\"../data/dumfries_and_galloway/iz_info_dumfries_and_galloway.csv\", \"../data/dumfries_and_galloway/businesses_decile_dumfries_and_galloway.csv\")\n",
    "create_charity_decile_table(\"../data/dumfries_and_galloway/iz_info_dumfries_and_galloway.csv\", \"../data/dumfries_and_galloway/charity_decile_dumfries_and_galloway.csv\")\n",
    "create_ccch_decile_table(\"../data/dumfries_and_galloway/iz_info_dumfries_and_galloway.csv\", \"../data/dumfries_and_galloway/ccch_decile_dumfries_and_galloway.csv\")"
   ]
  },
  {
   "cell_type": "code",
   "execution_count": 18,
   "metadata": {},
   "outputs": [],
   "source": [
    "# Dundee City\n",
    "create_business_decile_table(\"../data/dundee_city/iz_info_dundee_city.csv\", \"../data/dundee_city/businesses_decile_dundee_city.csv\")\n",
    "create_charity_decile_table(\"../data/dundee_city/iz_info_dundee_city.csv\", \"../data/dundee_city/charity_decile_dundee_city.csv\")\n",
    "create_ccch_decile_table(\"../data/dundee_city/iz_info_dundee_city.csv\", \"../data/dundee_city/ccch_decile_dundee_city.csv\")"
   ]
  },
  {
   "cell_type": "code",
   "execution_count": 19,
   "metadata": {},
   "outputs": [],
   "source": [
    "# East Ayrshire\n",
    "create_business_decile_table(\"../data/east_ayrshire/iz_info_east_ayrshire.csv\", \"../data/east_ayrshire/businesses_decile_east_ayrshire.csv\")\n",
    "create_charity_decile_table(\"../data/east_ayrshire/iz_info_east_ayrshire.csv\", \"../data/east_ayrshire/charity_decile_east_ayrshire.csv\")\n",
    "create_ccch_decile_table(\"../data/east_ayrshire/iz_info_east_ayrshire.csv\", \"../data/east_ayrshire/ccch_decile_east_ayrshire.csv\")"
   ]
  },
  {
   "cell_type": "code",
   "execution_count": 20,
   "metadata": {},
   "outputs": [],
   "source": [
    "# East Dunbartonshire\n",
    "create_business_decile_table(\"../data/east_dunbartonshire/iz_info_east_dunbartonshire.csv\", \"../data/east_dunbartonshire/businesses_decile_east_dunbartonshire.csv\")\n",
    "create_charity_decile_table(\"../data/east_dunbartonshire/iz_info_east_dunbartonshire.csv\", \"../data/east_dunbartonshire/charity_decile_east_dunbartonshire.csv\")\n",
    "create_ccch_decile_table(\"../data/east_dunbartonshire/iz_info_east_dunbartonshire.csv\", \"../data/east_dunbartonshire/ccch_decile_east_dunbartonshire.csv\")"
   ]
  },
  {
   "cell_type": "code",
   "execution_count": 21,
   "metadata": {},
   "outputs": [],
   "source": [
    "# East Lothian\n",
    "create_business_decile_table(\"../data/east_lothian/iz_info_east_lothian.csv\", \"../data/east_lothian/businesses_decile_east_lothian.csv\")\n",
    "create_charity_decile_table(\"../data/east_lothian/iz_info_east_lothian.csv\", \"../data/east_lothian/charity_decile_east_lothian.csv\")\n",
    "create_ccch_decile_table(\"../data/east_lothian/iz_info_east_lothian.csv\", \"../data/east_lothian/ccch_decile_east_lothian.csv\")"
   ]
  },
  {
   "cell_type": "code",
   "execution_count": 22,
   "metadata": {},
   "outputs": [],
   "source": [
    "# East Renfrewshire\n",
    "create_business_decile_table(\"../data/east_renfrewshire/iz_info_east_renfrewshire.csv\", \"../data/east_renfrewshire/businesses_decile_east_renfrewshire.csv\")\n",
    "create_charity_decile_table(\"../data/east_renfrewshire/iz_info_east_renfrewshire.csv\", \"../data/east_renfrewshire/charity_decile_east_renfrewshire.csv\")\n",
    "create_ccch_decile_table(\"../data/east_renfrewshire/iz_info_east_renfrewshire.csv\", \"../data/east_renfrewshire/ccch_decile_east_renfrewshire.csv\")"
   ]
  },
  {
   "cell_type": "code",
   "execution_count": 23,
   "metadata": {},
   "outputs": [],
   "source": [
    "# Falkirk\n",
    "create_business_decile_table(\"../data/falkirk/iz_info_falkirk.csv\", \"../data/falkirk/businesses_decile_falkirk.csv\")\n",
    "create_charity_decile_table(\"../data/falkirk/iz_info_falkirk.csv\", \"../data/falkirk/charity_decile_falkirk.csv\")\n",
    "create_ccch_decile_table(\"../data/falkirk/iz_info_falkirk.csv\", \"../data/falkirk/ccch_decile_falkirk.csv\")"
   ]
  },
  {
   "cell_type": "code",
   "execution_count": 24,
   "metadata": {},
   "outputs": [],
   "source": [
    "# Fife\n",
    "create_business_decile_table(\"../data/fife/iz_info_fife.csv\", \"../data/fife/businesses_decile_fife.csv\")\n",
    "create_charity_decile_table(\"../data/fife/iz_info_fife.csv\", \"../data/fife/charity_decile_fife.csv\")\n",
    "create_ccch_decile_table(\"../data/fife/iz_info_fife.csv\", \"../data/fife/ccch_decile_fife.csv\")"
   ]
  },
  {
   "cell_type": "code",
   "execution_count": 25,
   "metadata": {},
   "outputs": [],
   "source": [
    "# Glasgow City\n",
    "create_business_decile_table(\"../data/glasgow_city/iz_info_glasgow_city.csv\", \"../data/glasgow_city/businesses_decile_glasgow_city.csv\")\n",
    "create_charity_decile_table(\"../data/glasgow_city/iz_info_glasgow_city.csv\", \"../data/glasgow_city/charity_decile_glasgow_city.csv\")\n",
    "create_ccch_decile_table(\"../data/glasgow_city/iz_info_glasgow_city.csv\", \"../data/glasgow_city/ccch_decile_glasgow_city.csv\")"
   ]
  },
  {
   "cell_type": "code",
   "execution_count": 26,
   "metadata": {},
   "outputs": [],
   "source": [
    "# Highland\n",
    "create_business_decile_table(\"../data/highland/iz_info_highland.csv\", \"../data/highland/businesses_decile_highland.csv\")\n",
    "create_charity_decile_table(\"../data/highland/iz_info_highland.csv\", \"../data/highland/charity_decile_highland.csv\")\n",
    "create_ccch_decile_table(\"../data/highland/iz_info_highland.csv\", \"../data/highland/ccch_decile_highland.csv\")"
   ]
  },
  {
   "cell_type": "code",
   "execution_count": 27,
   "metadata": {},
   "outputs": [],
   "source": [
    "# Inverclyde\n",
    "create_business_decile_table(\"../data/inverclyde/iz_info_inverclyde.csv\", \"../data/inverclyde/businesses_decile_inverclyde.csv\")\n",
    "create_charity_decile_table(\"../data/inverclyde/iz_info_inverclyde.csv\", \"../data/inverclyde/charity_decile_inverclyde.csv\")\n",
    "create_ccch_decile_table(\"../data/inverclyde/iz_info_inverclyde.csv\", \"../data/inverclyde/ccch_decile_inverclyde.csv\")"
   ]
  },
  {
   "cell_type": "code",
   "execution_count": 28,
   "metadata": {},
   "outputs": [],
   "source": [
    "# Midlothian\n",
    "create_business_decile_table(\"../data/midlothian/iz_info_midlothian.csv\", \"../data/midlothian/businesses_decile_midlothian.csv\")\n",
    "create_charity_decile_table(\"../data/midlothian/iz_info_midlothian.csv\", \"../data/midlothian/charity_decile_midlothian.csv\")\n",
    "create_ccch_decile_table(\"../data/midlothian/iz_info_midlothian.csv\", \"../data/midlothian/ccch_decile_midlothian.csv\")"
   ]
  },
  {
   "cell_type": "code",
   "execution_count": 29,
   "metadata": {},
   "outputs": [],
   "source": [
    "# Moray\n",
    "create_business_decile_table(\"../data/moray/iz_info_moray.csv\", \"../data/moray/businesses_decile_moray.csv\")\n",
    "create_charity_decile_table(\"../data/moray/iz_info_moray.csv\", \"../data/moray/charity_decile_moray.csv\")\n",
    "create_ccch_decile_table(\"../data/moray/iz_info_moray.csv\", \"../data/moray/ccch_decile_moray.csv\")"
   ]
  },
  {
   "cell_type": "code",
   "execution_count": 30,
   "metadata": {},
   "outputs": [],
   "source": [
    "# Na h-Eileanan Siar\n",
    "create_business_decile_table(\"../data/na_h-eileanan_siar/iz_info_na_h-eileanan_siar.csv\", \"../data/na_h-eileanan_siar/businesses_decile_na_h-eileanan_siar.csv\")\n",
    "create_charity_decile_table(\"../data/na_h-eileanan_siar/iz_info_na_h-eileanan_siar.csv\", \"../data/na_h-eileanan_siar/charity_decile_na_h-eileanan_siar.csv\")\n",
    "create_ccch_decile_table(\"../data/na_h-eileanan_siar/iz_info_na_h-eileanan_siar.csv\", \"../data/na_h-eileanan_siar/ccch_decile_na_h-eileanan_siar.csv\")"
   ]
  },
  {
   "cell_type": "code",
   "execution_count": 31,
   "metadata": {},
   "outputs": [],
   "source": [
    "# North Ayrshire\n",
    "create_business_decile_table(\"../data/north_ayrshire/iz_info_north_ayrshire.csv\", \"../data/north_ayrshire/businesses_decile_north_ayrshire.csv\")\n",
    "create_charity_decile_table(\"../data/north_ayrshire/iz_info_north_ayrshire.csv\", \"../data/north_ayrshire/charity_decile_north_ayrshire.csv\")\n",
    "create_ccch_decile_table(\"../data/north_ayrshire/iz_info_north_ayrshire.csv\", \"../data/north_ayrshire/ccch_decile_north_ayrshire.csv\")"
   ]
  },
  {
   "cell_type": "code",
   "execution_count": 32,
   "metadata": {},
   "outputs": [],
   "source": [
    "# North Lanarkshire\n",
    "create_business_decile_table(\"../data/north_lanarkshire/iz_info_north_lanarkshire.csv\", \"../data/north_lanarkshire/businesses_decile_north_lanarkshire.csv\")\n",
    "create_charity_decile_table(\"../data/north_lanarkshire/iz_info_north_lanarkshire.csv\", \"../data/north_lanarkshire/charity_decile_north_lanarkshire.csv\")\n",
    "create_ccch_decile_table(\"../data/north_lanarkshire/iz_info_north_lanarkshire.csv\", \"../data/north_lanarkshire/ccch_decile_north_lanarkshire.csv\")"
   ]
  },
  {
   "cell_type": "code",
   "execution_count": 33,
   "metadata": {},
   "outputs": [],
   "source": [
    "# Orkney Islands\n",
    "create_business_decile_table(\"../data/orkney_islands/iz_info_orkney_islands.csv\", \"../data/orkney_islands/businesses_decile_orkney_islands.csv\")\n",
    "create_charity_decile_table(\"../data/orkney_islands/iz_info_orkney_islands.csv\", \"../data/orkney_islands/charity_decile_orkney_islands.csv\")\n",
    "create_ccch_decile_table(\"../data/orkney_islands/iz_info_orkney_islands.csv\", \"../data/orkney_islands/ccch_decile_orkney_islands.csv\")"
   ]
  },
  {
   "cell_type": "code",
   "execution_count": 34,
   "metadata": {},
   "outputs": [],
   "source": [
    "# Perth and Kinross\n",
    "create_business_decile_table(\"../data/perth_and_kinross/iz_info_perth_and_kinross.csv\", \"../data/perth_and_kinross/businesses_decile_perth_and_kinross.csv\")\n",
    "create_charity_decile_table(\"../data/perth_and_kinross/iz_info_perth_and_kinross.csv\", \"../data/perth_and_kinross/charity_decile_perth_and_kinross.csv\")\n",
    "create_ccch_decile_table(\"../data/perth_and_kinross/iz_info_perth_and_kinross.csv\", \"../data/perth_and_kinross/ccch_decile_perth_and_kinross.csv\")\n"
   ]
  },
  {
   "cell_type": "code",
   "execution_count": 35,
   "metadata": {},
   "outputs": [],
   "source": [
    "# Renfrewshire\n",
    "create_business_decile_table(\"../data/renfrewshire/iz_info_renfrewshire.csv\", \"../data/renfrewshire/businesses_decile_renfrewshire.csv\")\n",
    "create_charity_decile_table(\"../data/renfrewshire/iz_info_renfrewshire.csv\", \"../data/renfrewshire/charity_decile_renfrewshire.csv\")\n",
    "create_ccch_decile_table(\"../data/renfrewshire/iz_info_renfrewshire.csv\", \"../data/renfrewshire/ccch_decile_renfrewshire.csv\")\n"
   ]
  },
  {
   "cell_type": "code",
   "execution_count": 36,
   "metadata": {},
   "outputs": [],
   "source": [
    "# Scottish Borders\n",
    "create_business_decile_table(\"../data/scottish_borders/iz_info_scottish_borders.csv\", \"../data/scottish_borders/businesses_decile_scottish_borders.csv\")\n",
    "create_charity_decile_table(\"../data/scottish_borders/iz_info_scottish_borders.csv\", \"../data/scottish_borders/charity_decile_scottish_borders.csv\")\n",
    "create_ccch_decile_table(\"../data/scottish_borders/iz_info_scottish_borders.csv\", \"../data/scottish_borders/ccch_decile_scottish_borders.csv\")"
   ]
  },
  {
   "cell_type": "code",
   "execution_count": 37,
   "metadata": {},
   "outputs": [],
   "source": [
    "# Shetland Islands\n",
    "create_business_decile_table(\"../data/shetland_islands/iz_info_shetland_islands.csv\", \"../data/shetland_islands/businesses_decile_shetland_islands.csv\")\n",
    "create_charity_decile_table(\"../data/shetland_islands/iz_info_shetland_islands.csv\", \"../data/shetland_islands/charity_decile_shetland_islands.csv\")\n",
    "create_ccch_decile_table(\"../data/shetland_islands/iz_info_shetland_islands.csv\", \"../data/shetland_islands/ccch_decile_shetland_islands.csv\")"
   ]
  },
  {
   "cell_type": "code",
   "execution_count": 38,
   "metadata": {},
   "outputs": [],
   "source": [
    "# South Ayrshire\n",
    "create_business_decile_table(\"../data/south_ayrshire/iz_info_south_ayrshire.csv\", \"../data/south_ayrshire/businesses_decile_south_ayrshire.csv\")\n",
    "create_charity_decile_table(\"../data/south_ayrshire/iz_info_south_ayrshire.csv\", \"../data/south_ayrshire/charity_decile_south_ayrshire.csv\")\n",
    "create_ccch_decile_table(\"../data/south_ayrshire/iz_info_south_ayrshire.csv\", \"../data/south_ayrshire/ccch_decile_south_ayrshire.csv\")"
   ]
  },
  {
   "cell_type": "code",
   "execution_count": 39,
   "metadata": {},
   "outputs": [],
   "source": [
    "# South Lanarkshire\n",
    "create_business_decile_table(\"../data/south_lanarkshire/iz_info_south_lanarkshire.csv\", \"../data/south_lanarkshire/businesses_decile_south_lanarkshire.csv\")\n",
    "create_charity_decile_table(\"../data/south_lanarkshire/iz_info_south_lanarkshire.csv\", \"../data/south_lanarkshire/charity_decile_south_lanarkshire.csv\")\n",
    "create_ccch_decile_table(\"../data/south_lanarkshire/iz_info_south_lanarkshire.csv\", \"../data/south_lanarkshire/ccch_decile_south_lanarkshire.csv\")"
   ]
  },
  {
   "cell_type": "code",
   "execution_count": 40,
   "metadata": {},
   "outputs": [],
   "source": [
    "# Stirling\n",
    "create_business_decile_table(\"../data/stirling/iz_info_stirling.csv\", \"../data/stirling/businesses_decile_stirling.csv\")\n",
    "create_charity_decile_table(\"../data/stirling/iz_info_stirling.csv\", \"../data/stirling/charity_decile_stirling.csv\")\n",
    "create_ccch_decile_table(\"../data/stirling/iz_info_stirling.csv\", \"../data/stirling/ccch_decile_stirling.csv\")"
   ]
  },
  {
   "cell_type": "code",
   "execution_count": 41,
   "metadata": {},
   "outputs": [],
   "source": [
    "# West Dunbartonshire\n",
    "create_business_decile_table(\"../data/west_dunbartonshire/iz_info_west_dunbartonshire.csv\", \"../data/west_dunbartonshire/businesses_decile_west_dunbartonshire.csv\")\n",
    "create_charity_decile_table(\"../data/west_dunbartonshire/iz_info_west_dunbartonshire.csv\", \"../data/west_dunbartonshire/charity_decile_west_dunbartonshire.csv\")\n",
    "create_ccch_decile_table(\"../data/west_dunbartonshire/iz_info_west_dunbartonshire.csv\", \"../data/west_dunbartonshire/ccch_decile_west_dunbartonshire.csv\")"
   ]
  },
  {
   "cell_type": "code",
   "execution_count": 42,
   "metadata": {},
   "outputs": [],
   "source": [
    "# West Lothian\n",
    "create_business_decile_table(\"../data/west_lothian/iz_info_west_lothian.csv\", \"../data/west_lothian/businesses_decile_west_lothian.csv\")\n",
    "create_charity_decile_table(\"../data/west_lothian/iz_info_west_lothian.csv\", \"../data/west_lothian/charity_decile_west_lothian.csv\")\n",
    "create_ccch_decile_table(\"../data/west_lothian/iz_info_west_lothian.csv\", \"../data/west_lothian/ccch_decile_west_lothian.csv\")"
   ]
  }
 ],
 "metadata": {
  "interpreter": {
   "hash": "aee8b7b246df8f9039afb4144a1f6fd8d2ca17a180786b69acc140d282b71a49"
  },
  "kernelspec": {
   "display_name": "Python 3.9.0 64-bit",
   "language": "python",
   "name": "python3"
  },
  "language_info": {
   "codemirror_mode": {
    "name": "ipython",
    "version": 3
   },
   "file_extension": ".py",
   "mimetype": "text/x-python",
   "name": "python",
   "nbconvert_exporter": "python",
   "pygments_lexer": "ipython3",
   "version": "3.7.10"
  },
  "orig_nbformat": 4
 },
 "nbformat": 4,
 "nbformat_minor": 2
}
