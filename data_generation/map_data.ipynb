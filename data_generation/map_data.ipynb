{
 "cells": [
  {
   "cell_type": "code",
   "execution_count": 6,
   "metadata": {},
   "outputs": [],
   "source": [
    "import pandas as pd"
   ]
  },
  {
   "cell_type": "code",
   "execution_count": 16,
   "metadata": {},
   "outputs": [],
   "source": [
    "def create_charity_csv(la_name, save_location):\n",
    "\n",
    "    charities = pd.read_csv(\"../data/scotland/local_charities_final.csv\")\n",
    "    charities = charities.replace(to_replace=\"Perth & Kinross\", value=\"Perth and Kinross\")\n",
    "    charities = charities.replace(to_replace=\"Aberdeen\", value=\"Aberdeen City\")\n",
    "    charities = charities.replace(to_replace=\"Argyll & Bute\", value=\"Argyll and Bute\")\n",
    "    charities = charities.replace(to_replace=\"Dumfries & Galloway\", value=\"Dumfries and Galloway\")\n",
    "    charities = charities.replace(to_replace=\"Western Isles\", value=\"Na h-Eileanan Siar\")\n",
    "\n",
    "    charities_la = charities.loc[charities[\"Main Operating Location\"] == la_name].copy()\n",
    "\n",
    "    # checks charity postcode is in the local authority of operating location\n",
    "    pc_lookup = pd.read_csv(\"../data/scotland/postcode_lookup.csv\", low_memory=False)\n",
    "    pc_lookup.drop_duplicates(subset=\"Postcode\", inplace=True)\n",
    "    pc_lookup = pc_lookup.loc[:, [\"Postcode\", \"IntermediateZone2011Code\", \"DataZone2011Code\"]].copy()\n",
    "    dz_lookup = pd.read_csv('../data/scotland/2011_dz_lookup.csv')\n",
    "    char_pc = pd.merge(charities_la, pc_lookup, left_on=\"Postcode\", right_on=\"Postcode\", how=\"left\")\n",
    "    char_pc_iz = pd.merge(char_pc, dz_lookup, left_on=\"DataZone2011Code\", right_on=\"DZ2011_Code\")\n",
    "    char_pc_iz_pc_la = char_pc_iz.loc[char_pc_iz['LA_Name'] == la_name].copy()\n",
    "\n",
    "    # formats df\n",
    "    char_pc_iz_pc_la.rename(columns={\"Charity Name\": \"Name\", \"LA_Name\": \"Local authority\"}, inplace=True)\n",
    "    char_pc_iz_pc_la = char_pc_iz_pc_la.loc[:, [\"Name\", \"Charity Number\", \"Local authority\", \"Postcode\", \"Latitude\", \"Longitude\", \"IntermediateZone2011Code\", \"DataZone2011Code\"]].copy()\n",
    "    \n",
    "    char_pc_iz_pc_la.to_csv(save_location, index=False)"
   ]
  },
  {
   "cell_type": "code",
   "execution_count": 8,
   "metadata": {},
   "outputs": [],
   "source": [
    "def create_maos_csv(la_name, save_location):\n",
    "    maos = pd.read_csv(\"../data/scotland/maos.csv\")\n",
    "    dz_lookup = pd.read_csv('../data/scotland/2011_dz_lookup.csv')\n",
    "    pc_lookup = pd.read_csv(\"../data/scotland/postcode_lookup.csv\", low_memory=False)\n",
    "    pc_lookup.drop_duplicates(subset=\"Postcode\", inplace=True)\n",
    "    maos_postcode = pd.merge(maos, pc_lookup, left_on=\"postcode\", right_on=\"Postcode\")\n",
    "    maos_postcode_la = pd.merge(maos_postcode, dz_lookup, left_on='DataZone2011Code', right_on='DZ2011_Code', how=\"left\")\n",
    "    maos_postcode_la = maos_postcode_la.loc[:, [\"name\", \"location_coord.lng\", \"location_coord.lat\", \"postcode\", \"LA_Name\"]].copy()\n",
    "    maos_la = maos_postcode_la.loc[maos_postcode_la.LA_Name == la_name].copy()\n",
    "    maos_la.reset_index(inplace=True)\n",
    "    maos_la.drop(columns=\"index\", inplace=True)\n",
    "    maos_la.rename(columns={\"location_coord.lat\": \"Latitude\", \"location_coord.lng\": \"Longitude\", \"name\": \"Name\", \"LA_Name\": \"Local authority\"}, inplace=True)\n",
    "\n",
    "    maos_la.to_csv(save_location, index=False)"
   ]
  },
  {
   "cell_type": "code",
   "execution_count": 10,
   "metadata": {},
   "outputs": [],
   "source": [
    "def create_dts_csv(la_name, save_location):\n",
    "    dts = pd.read_csv(\"../data/scotland/dt_complete.csv\")\n",
    "    postcode_lookup = pd.read_csv(\"../data/scotland/postcode_lookup.csv\", low_memory=False)\n",
    "    postcode_lookup.drop_duplicates(subset=\"Postcode\", inplace=True)\n",
    "    dz_lookup = pd.read_csv(\"../data/scotland/2011_dz_lookup.csv\")\n",
    "    dts_postcode = pd.merge(dts, postcode_lookup, left_on=\"postcode\", right_on=\"Postcode\")\n",
    "    dts_postcode_la = pd.merge(dts_postcode, dz_lookup, left_on='DataZone2011Code', right_on='DZ2011_Code', how=\"left\")\n",
    "    dts_la = dts_postcode_la.loc[dts_postcode_la['LA_Name'] == la_name].copy()\n",
    "    dts_la.rename(columns={\"name\": \"Name\", \"Latitude_x\": \"Latitude\", \"Longitude_x\": \"Longitude\"}, inplace=True)\n",
    "    dts_la = dts_la.loc[:, [\"Name\", \"Latitude\", \"Longitude\", \"Postcode\", \"IntermediateZone2011Code\"]].copy()\n",
    "\n",
    "    dts_la.to_csv(save_location, index=False)"
   ]
  },
  {
   "cell_type": "code",
   "execution_count": 15,
   "metadata": {},
   "outputs": [],
   "source": [
    "# Aberdeen City\n",
    "create_charity_csv(\"Aberdeen City\", \"../data/aberdeen_city/charities_aberdeen_city.csv\")\n",
    "create_maos_csv(\"Aberdeen City\", \"../data/aberdeen_city/maos_aberdeen_city.csv\")\n",
    "create_dts_csv(\"Aberdeen City\", \"../data/aberdeen_city/dts_aberdeen_city.csv\")"
   ]
  },
  {
   "cell_type": "code",
   "execution_count": 32,
   "metadata": {},
   "outputs": [],
   "source": [
    "# Aberdeenshire\n",
    "create_charity_csv(\"Aberdeenshire\", \"../data/aberdeenshire/charities_aberdeenshire.csv\") \n",
    "create_maos_csv(\"Aberdeenshire\", \"../data/aberdeenshire/maos_aberdeenshire.csv\")\n",
    "create_dts_csv(\"Aberdeenshire\", \"../data/aberdeenshire/dts_aberdeenshire.csv\")"
   ]
  },
  {
   "cell_type": "code",
   "execution_count": 33,
   "metadata": {},
   "outputs": [],
   "source": [
    "# Angus\n",
    "create_charity_csv(\"Angus\", \"../data/angus/charities_angus.csv\") \n",
    "create_maos_csv(\"Angus\", \"../data/angus/maos_angus.csv\")\n",
    "create_dts_csv(\"Angus\", \"../data/angus/dts_angus.csv\")"
   ]
  },
  {
   "cell_type": "code",
   "execution_count": 35,
   "metadata": {},
   "outputs": [],
   "source": [
    "# Argyll and Bute\n",
    "create_charity_csv(\"Argyll and Bute\", \"../data/argyll_and_bute/charities_argyll_and_bute.csv\")\n",
    "create_maos_csv(\"Argyll and Bute\", \"../data/argyll_and_bute/maos_argyll_and_bute.csv\")\n",
    "create_dts_csv(\"Argyll and Bute\", \"../data/argyll_and_bute/dts_argyll_and_bute.csv\")"
   ]
  },
  {
   "cell_type": "code",
   "execution_count": 37,
   "metadata": {},
   "outputs": [],
   "source": [
    "# City of Edinburgh\n",
    "create_charity_csv(\"City of Edinburgh\", \"../data/city_of_edinburgh/charities_city_of_edinburgh.csv\")\n",
    "create_maos_csv(\"City of Edinburgh\", \"../data/city_of_edinburgh/maos_city_of_edinburgh.csv\")\n",
    "create_dts_csv(\"City of Edinburgh\", \"../data/city_of_edinburgh/dts_city_of_edinburgh.csv\")"
   ]
  },
  {
   "cell_type": "code",
   "execution_count": 38,
   "metadata": {},
   "outputs": [],
   "source": [
    "# Clackmannanshire\n",
    "create_charity_csv(\"Clackmannanshire\", \"../data/clackmannanshire/charities_clackmannanshire.csv\") \n",
    "create_maos_csv(\"Clackmannanshire\", \"../data/clackmannanshire/maos_clackmannanshire.csv\")\n",
    "create_dts_csv(\"Clackmannanshire\", \"../data/clackmannanshire/dts_clackmannanshire.csv\")"
   ]
  },
  {
   "cell_type": "code",
   "execution_count": 40,
   "metadata": {},
   "outputs": [],
   "source": [
    "# Dumfries and Galloway\n",
    "create_charity_csv(\"Dumfries and Galloway\", \"../data/dumfries_and_galloway/charities_dumfries_and_galloway.csv\") \n",
    "create_maos_csv(\"Dumfries and Galloway\", \"../data/dumfries_and_galloway/maos_dumfries_and_galloway.csv\")\n",
    "create_dts_csv(\"Dumfries and Galloway\", \"../data/dumfries_and_galloway/dts_dumfries_and_galloway.csv\")"
   ]
  },
  {
   "cell_type": "code",
   "execution_count": 42,
   "metadata": {},
   "outputs": [],
   "source": [
    "# Dundee City\n",
    "create_charity_csv(\"Dundee City\", \"../data/dundee_city/charities_dundee_city.csv\") \n",
    "create_maos_csv(\"Dundee City\", \"../data/dundee_city/maos_dundee_city.csv\")\n",
    "create_dts_csv(\"Dundee City\", \"../data/dundee_city/dts_dundee_city.csv\")"
   ]
  },
  {
   "cell_type": "code",
   "execution_count": 43,
   "metadata": {},
   "outputs": [],
   "source": [
    "# East Ayrshire\n",
    "create_charity_csv(\"East Ayrshire\", \"../data/east_ayrshire/charities_east_ayrshire.csv\") \n",
    "create_maos_csv(\"East Ayrshire\", \"../data/east_ayrshire/maos_east_ayrshire.csv\")\n",
    "create_dts_csv(\"East Ayrshire\", \"../data/east_ayrshire/dts_east_ayrshire.csv\")"
   ]
  },
  {
   "cell_type": "code",
   "execution_count": 44,
   "metadata": {},
   "outputs": [],
   "source": [
    "# East Dunbartonshire\n",
    "create_charity_csv(\"East Dunbartonshire\", \"../data/east_dunbartonshire/charities_east_dunbartonshire.csv\") \n",
    "create_maos_csv(\"East Dunbartonshire\", \"../data/east_dunbartonshire/maos_east_dunbartonshire.csv\")\n",
    "create_dts_csv(\"East Dunbartonshire\", \"../data/east_dunbartonshire/dts_east_dunbartonshire.csv\")"
   ]
  },
  {
   "cell_type": "code",
   "execution_count": 45,
   "metadata": {},
   "outputs": [],
   "source": [
    "# East Lothian\n",
    "create_charity_csv(\"East Lothian\", \"../data/east_lothian/charities_east_lothian.csv\")\n",
    "create_maos_csv(\"East Lothian\", \"../data/east_lothian/maos_east_lothian.csv\")\n",
    "create_dts_csv(\"East Lothian\", \"../data/east_lothian/dts_east_lothian.csv\")"
   ]
  },
  {
   "cell_type": "code",
   "execution_count": 46,
   "metadata": {},
   "outputs": [],
   "source": [
    "# East Renfrewshire\n",
    "create_charity_csv(\"East Renfrewshire\", \"../data/east_renfrewshire/charities_east_renfrewshire.csv\") \n",
    "create_maos_csv(\"East Renfrewshire\", \"../data/east_renfrewshire/maos_east_renfrewshire.csv\")\n",
    "create_dts_csv(\"East Renfrewshire\", \"../data/east_renfrewshire/dts_east_renfrewshire.csv\")"
   ]
  },
  {
   "cell_type": "code",
   "execution_count": 47,
   "metadata": {},
   "outputs": [],
   "source": [
    "# Falkirk\n",
    "create_charity_csv(\"Falkirk\", \"../data/falkirk/charities_falkirk.csv\") \n",
    "create_maos_csv(\"Falkirk\", \"../data/falkirk/maos_falkirk.csv\")\n",
    "create_dts_csv(\"Falkirk\", \"../data/falkirk/dts_falkirk.csv\")"
   ]
  },
  {
   "cell_type": "code",
   "execution_count": 48,
   "metadata": {},
   "outputs": [],
   "source": [
    "# Fife\n",
    "create_charity_csv(\"Fife\", \"../data/fife/charities_fife.csv\") \n",
    "create_maos_csv(\"Fife\", \"../data/fife/maos_fife.csv\")\n",
    "create_dts_csv(\"Fife\", \"../data/fife/dts_fife.csv\")"
   ]
  },
  {
   "cell_type": "code",
   "execution_count": 49,
   "metadata": {},
   "outputs": [],
   "source": [
    "# Glasgow City\n",
    "create_charity_csv(\"Glasgow City\", \"../data/glasgow_city/charities_glasgow_city.csv\") \n",
    "create_maos_csv(\"Glasgow City\", \"../data/glasgow_city/maos_glasgow_city.csv\")\n",
    "create_dts_csv(\"Glasgow City\", \"../data/glasgow_city/dts_glasgow_city.csv\")"
   ]
  },
  {
   "cell_type": "code",
   "execution_count": 50,
   "metadata": {},
   "outputs": [],
   "source": [
    "# Highland\n",
    "create_charity_csv(\"Highland\", \"../data/highland/charities_highland.csv\") \n",
    "create_maos_csv(\"Highland\", \"../data/highland/maos_highland.csv\")\n",
    "create_dts_csv(\"Highland\", \"../data/highland/dts_highland.csv\")"
   ]
  },
  {
   "cell_type": "code",
   "execution_count": 51,
   "metadata": {},
   "outputs": [],
   "source": [
    "# Inverclyde\n",
    "create_charity_csv(\"Inverclyde\", \"../data/inverclyde/charities_inverclyde.csv\") \n",
    "create_maos_csv(\"Inverclyde\", \"../data/inverclyde/maos_inverclyde.csv\")\n",
    "create_dts_csv(\"Inverclyde\", \"../data/inverclyde/dts_inverclyde.csv\")"
   ]
  },
  {
   "cell_type": "code",
   "execution_count": 52,
   "metadata": {},
   "outputs": [],
   "source": [
    "# Midlothian\n",
    "create_charity_csv(\"Midlothian\", \"../data/midlothian/charities_midlothian.csv\") \n",
    "create_maos_csv(\"Midlothian\", \"../data/midlothian/maos_midlothian.csv\")\n",
    "create_dts_csv(\"Midlothian\", \"../data/midlothian/dts_midlothian.csv\")"
   ]
  },
  {
   "cell_type": "code",
   "execution_count": 53,
   "metadata": {},
   "outputs": [],
   "source": [
    "# Moray\n",
    "create_charity_csv(\"Moray\", \"../data/moray/charities_moray.csv\") \n",
    "create_maos_csv(\"Moray\", \"../data/moray/maos_moray.csv\")\n",
    "create_dts_csv(\"Moray\", \"../data/moray/dts_moray.csv\")"
   ]
  },
  {
   "cell_type": "code",
   "execution_count": 55,
   "metadata": {},
   "outputs": [],
   "source": [
    "# Na h-Eileanan Siar\n",
    "create_charity_csv(\"Na h-Eileanan Siar\", \"../data/na_h-eileanan_siar/charities_na_h-eileanan_siar.csv\") \n",
    "create_maos_csv(\"Na h-Eileanan Siar\", \"../data/na_h-eileanan_siar/maos_na_h-eileanan_siar.csv\")\n",
    "create_dts_csv(\"Na h-Eileanan Siar\", \"../data/na_h-eileanan_siar/dts_na_h-eileanan_siar.csv\")"
   ]
  },
  {
   "cell_type": "code",
   "execution_count": 57,
   "metadata": {},
   "outputs": [],
   "source": [
    "# North Ayrshire\n",
    "create_charity_csv(\"North Ayrshire\", \"../data/north_ayrshire/charities_north_ayrshire.csv\") \n",
    "create_maos_csv(\"North Ayrshire\", \"../data/north_ayrshire/maos_north_ayrshire.csv\")\n",
    "create_dts_csv(\"North Ayrshire\", \"../data/north_ayrshire/dts_north_ayrshire.csv\")"
   ]
  },
  {
   "cell_type": "code",
   "execution_count": 58,
   "metadata": {},
   "outputs": [],
   "source": [
    "# North Lanarkshire\n",
    "create_charity_csv(\"North Lanarkshire\", \"../data/north_lanarkshire/charities_north_lanarkshire.csv\") \n",
    "create_maos_csv(\"North Lanarkshire\", \"../data/north_lanarkshire/maos_north_lanarkshire.csv\")\n",
    "create_dts_csv(\"North Lanarkshire\", \"../data/north_lanarkshire/dts_north_lanarkshire.csv\")"
   ]
  },
  {
   "cell_type": "code",
   "execution_count": 59,
   "metadata": {},
   "outputs": [],
   "source": [
    "# Orkney Islands\n",
    "create_charity_csv(\"Orkney Islands\", \"../data/orkney_islands/charities_orkney_islands.csv\") \n",
    "create_maos_csv(\"Orkney Islands\", \"../data/orkney_islands/maos_orkney_islands.csv\")\n",
    "create_dts_csv(\"Orkney Islands\", \"../data/orkney_islands/dts_orkney_islands.csv\")"
   ]
  },
  {
   "cell_type": "code",
   "execution_count": 61,
   "metadata": {},
   "outputs": [],
   "source": [
    "# Perth and Kinross\n",
    "create_charity_csv(\"Perth and Kinross\", \"../data/perth_and_kinross/charities_perth_and_kinross.csv\") \n",
    "create_maos_csv(\"Perth and Kinross\", \"../data/perth_and_kinross/maos_perth_and_kinross.csv\")\n",
    "create_dts_csv(\"Perth and Kinross\", \"../data/perth_and_kinross/dts_perth_and_kinross.csv\")"
   ]
  },
  {
   "cell_type": "code",
   "execution_count": 63,
   "metadata": {},
   "outputs": [],
   "source": [
    "# Renfrewshire\n",
    "create_charity_csv(\"Renfrewshire\", \"../data/renfrewshire/charities_renfrewshire.csv\") \n",
    "create_maos_csv(\"Renfrewshire\", \"../data/renfrewshire/maos_renfrewshire.csv\")\n",
    "create_dts_csv(\"Renfrewshire\", \"../data/renfrewshire/dts_renfrewshire.csv\")"
   ]
  },
  {
   "cell_type": "code",
   "execution_count": 64,
   "metadata": {},
   "outputs": [],
   "source": [
    "# Scottish Borders\n",
    "create_charity_csv(\"Scottish Borders\", \"../data/scottish_borders/charities_scottish_borders.csv\") \n",
    "create_maos_csv(\"Scottish Borders\", \"../data/scottish_borders/maos_scottish_borders.csv\")\n",
    "create_dts_csv(\"Scottish Borders\", \"../data/scottish_borders/dts_scottish_borders.csv\")"
   ]
  },
  {
   "cell_type": "code",
   "execution_count": 65,
   "metadata": {},
   "outputs": [],
   "source": [
    "# Shetland Islands\n",
    "create_charity_csv(\"Shetland Islands\", \"../data/shetland_islands/charities_shetland_islands.csv\") \n",
    "create_maos_csv(\"Shetland Islands\", \"../data/shetland_islands/maos_shetland_islands.csv\")\n",
    "create_dts_csv(\"Shetland Islands\", \"../data/shetland_islands/dts_shetland_islands.csv\")"
   ]
  },
  {
   "cell_type": "code",
   "execution_count": 66,
   "metadata": {},
   "outputs": [],
   "source": [
    "# South Ayrshire\n",
    "create_charity_csv(\"South Ayrshire\", \"../data/south_ayrshire/charities_south_ayrshire.csv\") \n",
    "create_maos_csv(\"South Ayrshire\", \"../data/south_ayrshire/maos_south_ayrshire.csv\")\n",
    "create_dts_csv(\"South Ayrshire\", \"../data/south_ayrshire/dts_south_ayrshire.csv\")"
   ]
  },
  {
   "cell_type": "code",
   "execution_count": 67,
   "metadata": {},
   "outputs": [],
   "source": [
    "# South Lanarkshire\n",
    "create_charity_csv(\"South Lanarkshire\", \"../data/south_lanarkshire/charities_south_lanarkshire.csv\") \n",
    "create_maos_csv(\"South Lanarkshire\", \"../data/south_lanarkshire/maos_south_lanarkshire.csv\")\n",
    "create_dts_csv(\"South Lanarkshire\", \"../data/south_lanarkshire/dts_south_lanarkshire.csv\")"
   ]
  },
  {
   "cell_type": "code",
   "execution_count": 68,
   "metadata": {},
   "outputs": [],
   "source": [
    "# Stirling\n",
    "create_charity_csv(\"Stirling\", \"../data/stirling/charities_stirling.csv\") \n",
    "create_maos_csv(\"Stirling\", \"../data/stirling/maos_stirling.csv\")\n",
    "create_dts_csv(\"Stirling\", \"../data/stirling/dts_stirling.csv\")"
   ]
  },
  {
   "cell_type": "code",
   "execution_count": 69,
   "metadata": {},
   "outputs": [],
   "source": [
    "# West Dunbartonshire\n",
    "create_charity_csv(\"West Dunbartonshire\", \"../data/west_dunbartonshire/charities_west_dunbartonshire.csv\") \n",
    "create_maos_csv(\"West Dunbartonshire\", \"../data/west_dunbartonshire/maos_west_dunbartonshire.csv\")\n",
    "create_dts_csv(\"West Dunbartonshire\", \"../data/west_dunbartonshire/dts_west_dunbartonshire.csv\")"
   ]
  },
  {
   "cell_type": "code",
   "execution_count": 70,
   "metadata": {},
   "outputs": [],
   "source": [
    "# West Lothian\n",
    "create_charity_csv(\"West Lothian\", \"../data/west_lothian/charities_west_lothian.csv\") \n",
    "create_maos_csv(\"West Lothian\", \"../data/west_lothian/maos_west_lothian.csv\")\n",
    "create_dts_csv(\"West Lothian\", \"../data/west_lothian/dts_west_lothian.csv\")"
   ]
  }
 ],
 "metadata": {
  "interpreter": {
   "hash": "aee8b7b246df8f9039afb4144a1f6fd8d2ca17a180786b69acc140d282b71a49"
  },
  "kernelspec": {
   "display_name": "Python 3.9.0 64-bit",
   "language": "python",
   "name": "python3"
  },
  "language_info": {
   "codemirror_mode": {
    "name": "ipython",
    "version": 3
   },
   "file_extension": ".py",
   "mimetype": "text/x-python",
   "name": "python",
   "nbconvert_exporter": "python",
   "pygments_lexer": "ipython3",
   "version": "3.7.10"
  },
  "orig_nbformat": 4
 },
 "nbformat": 4,
 "nbformat_minor": 2
}
